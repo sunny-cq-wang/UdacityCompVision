{
 "cells": [
  {
   "cell_type": "markdown",
   "metadata": {},
   "source": [
    "# Classifying Fashion-MNIST\n",
    "\n",
    "Now it's your turn to build and train a neural network. You'll be using the [Fashion-MNIST dataset](https://github.com/zalandoresearch/fashion-mnist), a drop-in replacement for the MNIST dataset. MNIST is actually quite trivial with neural networks where you can easily achieve better than 97% accuracy. Fashion-MNIST is a set of 28x28 greyscale images of clothes. It's more complex than MNIST, so it's a better representation of the actual performance of your network, and a better representation of datasets you'll use in the real world.\n",
    "\n",
    "<img src='assets/fashion-mnist-sprite.png' width=500px>\n",
    "\n",
    "In this notebook, you'll build your own neural network. For the most part, you could just copy and paste the code from Part 3, but you wouldn't be learning. It's important for you to write the code yourself and get it to work. Feel free to consult the previous notebook though as you work through this.\n",
    "\n",
    "First off, let's load the dataset through torchvision."
   ]
  },
  {
   "cell_type": "code",
   "execution_count": 1,
   "metadata": {},
   "outputs": [
    {
     "name": "stdout",
     "output_type": "stream",
     "text": [
      "Downloading http://fashion-mnist.s3-website.eu-central-1.amazonaws.com/train-images-idx3-ubyte.gz\n",
      "Downloading http://fashion-mnist.s3-website.eu-central-1.amazonaws.com/train-images-idx3-ubyte.gz to F_MNIST_data/FashionMNIST\\raw\\train-images-idx3-ubyte.gz\n"
     ]
    },
    {
     "name": "stderr",
     "output_type": "stream",
     "text": [
      "11.6%IOPub message rate exceeded.\n",
      "The notebook server will temporarily stop sending output\n",
      "to the client in order to avoid crashing it.\n",
      "To change this limit, set the config variable\n",
      "`--NotebookApp.iopub_msg_rate_limit`.\n",
      "\n",
      "Current values:\n",
      "NotebookApp.iopub_msg_rate_limit=1000.0 (msgs/sec)\n",
      "NotebookApp.rate_limit_window=3.0 (secs)\n",
      "\n",
      "38.9%IOPub message rate exceeded.\n",
      "The notebook server will temporarily stop sending output\n",
      "to the client in order to avoid crashing it.\n",
      "To change this limit, set the config variable\n",
      "`--NotebookApp.iopub_msg_rate_limit`.\n",
      "\n",
      "Current values:\n",
      "NotebookApp.iopub_msg_rate_limit=1000.0 (msgs/sec)\n",
      "NotebookApp.rate_limit_window=3.0 (secs)\n",
      "\n",
      "66.3%IOPub message rate exceeded.\n",
      "The notebook server will temporarily stop sending output\n",
      "to the client in order to avoid crashing it.\n",
      "To change this limit, set the config variable\n",
      "`--NotebookApp.iopub_msg_rate_limit`.\n",
      "\n",
      "Current values:\n",
      "NotebookApp.iopub_msg_rate_limit=1000.0 (msgs/sec)\n",
      "NotebookApp.rate_limit_window=3.0 (secs)\n",
      "\n",
      "100.0%\n"
     ]
    },
    {
     "name": "stdout",
     "output_type": "stream",
     "text": [
      "Extracting F_MNIST_data/FashionMNIST\\raw\\train-images-idx3-ubyte.gz to F_MNIST_data/FashionMNIST\\raw\n",
      "\n",
      "Downloading http://fashion-mnist.s3-website.eu-central-1.amazonaws.com/train-labels-idx1-ubyte.gz\n",
      "Downloading http://fashion-mnist.s3-website.eu-central-1.amazonaws.com/train-labels-idx1-ubyte.gz to F_MNIST_data/FashionMNIST\\raw\\train-labels-idx1-ubyte.gz\n"
     ]
    },
    {
     "name": "stderr",
     "output_type": "stream",
     "text": [
      "100.6%\n"
     ]
    },
    {
     "name": "stdout",
     "output_type": "stream",
     "text": [
      "Extracting F_MNIST_data/FashionMNIST\\raw\\train-labels-idx1-ubyte.gz to F_MNIST_data/FashionMNIST\\raw\n",
      "\n",
      "Downloading http://fashion-mnist.s3-website.eu-central-1.amazonaws.com/t10k-images-idx3-ubyte.gz\n",
      "Downloading http://fashion-mnist.s3-website.eu-central-1.amazonaws.com/t10k-images-idx3-ubyte.gz to F_MNIST_data/FashionMNIST\\raw\\t10k-images-idx3-ubyte.gz\n"
     ]
    },
    {
     "name": "stderr",
     "output_type": "stream",
     "text": [
      "39.4%IOPub message rate exceeded.\n",
      "The notebook server will temporarily stop sending output\n",
      "to the client in order to avoid crashing it.\n",
      "To change this limit, set the config variable\n",
      "`--NotebookApp.iopub_msg_rate_limit`.\n",
      "\n",
      "Current values:\n",
      "NotebookApp.iopub_msg_rate_limit=1000.0 (msgs/sec)\n",
      "NotebookApp.rate_limit_window=3.0 (secs)\n",
      "\n",
      "119.3%"
     ]
    },
    {
     "name": "stdout",
     "output_type": "stream",
     "text": [
      "Extracting F_MNIST_data/FashionMNIST\\raw\\t10k-labels-idx1-ubyte.gz to F_MNIST_data/FashionMNIST\\raw\n",
      "\n"
     ]
    },
    {
     "name": "stderr",
     "output_type": "stream",
     "text": [
      "\n"
     ]
    }
   ],
   "source": [
    "import torch\n",
    "from torchvision import datasets, transforms\n",
    "import helper\n",
    "\n",
    "# Define a transform to normalize the data\n",
    "transform = transforms.Compose([transforms.ToTensor(),\n",
    "                                transforms.Normalize([0.5], [0.5])])\n",
    "# Download and load the training data\n",
    "trainset = datasets.FashionMNIST('F_MNIST_data/', download=True, train=True, transform=transform)\n",
    "trainloader = torch.utils.data.DataLoader(trainset, batch_size=64, shuffle=True)\n",
    "\n",
    "# Download and load the test data\n",
    "testset = datasets.FashionMNIST('F_MNIST_data/', download=True, train=False, transform=transform)\n",
    "testloader = torch.utils.data.DataLoader(testset, batch_size=64, shuffle=True)"
   ]
  },
  {
   "cell_type": "markdown",
   "metadata": {},
   "source": [
    "Here we can see one of the images."
   ]
  },
  {
   "cell_type": "code",
   "execution_count": 2,
   "metadata": {},
   "outputs": [
    {
     "data": {
      "image/png": "[encoded data removed]",
      "text/plain": [
       "<matplotlib.figure.Figure at 0x1a5207dc5c0>"
      ]
     },
     "metadata": {
      "needs_background": "light"
     },
     "output_type": "display_data"
    }
   ],
   "source": [
    "image, label = next(iter(trainloader))\n",
    "helper.imshow(image[0,:]);"
   ]
  },
  {
   "cell_type": "markdown",
   "metadata": {},
   "source": [
    "With the data loaded, it's time to import the necessary packages."
   ]
  },
  {
   "cell_type": "code",
   "execution_count": 3,
   "metadata": {},
   "outputs": [],
   "source": [
    "%matplotlib inline\n",
    "%config InlineBackend.figure_format = 'retina'\n",
    "\n",
    "import matplotlib.pyplot as plt\n",
    "import numpy as np\n",
    "import time\n",
    "\n",
    "import torch\n",
    "from torch import nn\n",
    "from torch import optim\n",
    "import torch.nn.functional as F\n",
    "from torchvision import datasets, transforms\n",
    "\n",
    "import helper"
   ]
  },
  {
   "cell_type": "markdown",
   "metadata": {},
   "source": [
    "## Building the network\n",
    "\n",
    "Here you should define your network. As with MNIST, each image is 28x28 which is a total of 784 pixels, and there are 10 classes. You should include at least one hidden layer. We suggest you use ReLU activations for the layers and to return the logits from the forward pass. It's up to you how many layers you add and the size of those layers."
   ]
  },
  {
   "cell_type": "code",
   "execution_count": 7,
   "metadata": {},
   "outputs": [],
   "source": [
    "# TODO: Define your network architecture here\n",
    "from collections import OrderedDict\n",
    "\n",
    "input_size = 784\n",
    "hidden_sizes = [128, 64]\n",
    "output_size = 10"
   ]
  },
  {
   "cell_type": "markdown",
   "metadata": {},
   "source": [
    "# Train the network\n",
    "\n",
    "Now you should create your network and train it. First you'll want to define [the criterion](http://pytorch.org/docs/master/nn.html#loss-functions) ( something like `nn.CrossEntropyLoss`) and [the optimizer](http://pytorch.org/docs/master/optim.html) (typically `optim.SGD` or `optim.Adam`).\n",
    "\n",
    "Then write the training code. Remember the training pass is a fairly straightforward process:\n",
    "\n",
    "* Make a forward pass through the network to get the logits \n",
    "* Use the logits to calculate the loss\n",
    "* Perform a backward pass through the network with `loss.backward()` to calculate the gradients\n",
    "* Take a step with the optimizer to update the weights\n",
    "\n",
    "By adjusting the hyperparameters (hidden units, learning rate, etc), you should be able to get the training loss below 0.4."
   ]
  },
  {
   "cell_type": "code",
   "execution_count": 9,
   "metadata": {},
   "outputs": [],
   "source": [
    "# TODO: Create the network, define the criterion and optimizer\n",
    "model = nn.Sequential(OrderedDict([\n",
    "    ('fc1', nn.Linear(input_size, hidden_sizes[0])), \n",
    "    ('relu1', nn.ReLU()),\n",
    "    ('fc2', nn.Linear(hidden_sizes[0], hidden_sizes[1])),\n",
    "    ('relu2', nn.ReLU()),\n",
    "    ('logits', nn.Linear(hidden_sizes[1], output_size))\n",
    "]))\n",
    "\n",
    "criterion = nn.CrossEntropyLoss()\n",
    "optimizer = optim.SGD(model.parameters(), lr=0.01)"
   ]
  },
  {
   "cell_type": "code",
   "execution_count": 13,
   "metadata": {},
   "outputs": [
    {
     "name": "stdout",
     "output_type": "stream",
     "text": [
      "Epoch: 1/5...  Loss: 0.4151\n",
      "Epoch: 1/5...  Loss: 0.4226\n",
      "Epoch: 1/5...  Loss: 0.4242\n",
      "Epoch: 1/5...  Loss: 0.4194\n",
      "Epoch: 1/5...  Loss: 0.4182\n",
      "Epoch: 1/5...  Loss: 0.3977\n",
      "Epoch: 1/5...  Loss: 0.4277\n",
      "Epoch: 1/5...  Loss: 0.4248\n",
      "Epoch: 1/5...  Loss: 0.4257\n",
      "Epoch: 1/5...  Loss: 0.4263\n",
      "Epoch: 1/5...  Loss: 0.3948\n",
      "Epoch: 1/5...  Loss: 0.4155\n",
      "Epoch: 1/5...  Loss: 0.4292\n",
      "Epoch: 1/5...  Loss: 0.3786\n",
      "Epoch: 1/5...  Loss: 0.4212\n",
      "Epoch: 1/5...  Loss: 0.3996\n",
      "Epoch: 1/5...  Loss: 0.3953\n",
      "Epoch: 1/5...  Loss: 0.3909\n",
      "Epoch: 2/5...  Loss: 0.0951\n",
      "Epoch: 2/5...  Loss: 0.3978\n",
      "Epoch: 2/5...  Loss: 0.4084\n",
      "Epoch: 2/5...  Loss: 0.4131\n",
      "Epoch: 2/5...  Loss: 0.4024\n",
      "Epoch: 2/5...  Loss: 0.4156\n",
      "Epoch: 2/5...  Loss: 0.3914\n",
      "Epoch: 2/5...  Loss: 0.4059\n",
      "Epoch: 2/5...  Loss: 0.4123\n",
      "Epoch: 2/5...  Loss: 0.3929\n",
      "Epoch: 2/5...  Loss: 0.4000\n",
      "Epoch: 2/5...  Loss: 0.3948\n",
      "Epoch: 2/5...  Loss: 0.3919\n",
      "Epoch: 2/5...  Loss: 0.3903\n",
      "Epoch: 2/5...  Loss: 0.3969\n",
      "Epoch: 2/5...  Loss: 0.3831\n",
      "Epoch: 2/5...  Loss: 0.3955\n",
      "Epoch: 2/5...  Loss: 0.3898\n",
      "Epoch: 2/5...  Loss: 0.4005\n",
      "Epoch: 3/5...  Loss: 0.2045\n",
      "Epoch: 3/5...  Loss: 0.3760\n",
      "Epoch: 3/5...  Loss: 0.3600\n",
      "Epoch: 3/5...  Loss: 0.3956\n",
      "Epoch: 3/5...  Loss: 0.3737\n",
      "Epoch: 3/5...  Loss: 0.3722\n",
      "Epoch: 3/5...  Loss: 0.4112\n",
      "Epoch: 3/5...  Loss: 0.4102\n",
      "Epoch: 3/5...  Loss: 0.3892\n",
      "Epoch: 3/5...  Loss: 0.3866\n",
      "Epoch: 3/5...  Loss: 0.3714\n",
      "Epoch: 3/5...  Loss: 0.4087\n",
      "Epoch: 3/5...  Loss: 0.3951\n",
      "Epoch: 3/5...  Loss: 0.3625\n",
      "Epoch: 3/5...  Loss: 0.3570\n",
      "Epoch: 3/5...  Loss: 0.3910\n",
      "Epoch: 3/5...  Loss: 0.3931\n",
      "Epoch: 3/5...  Loss: 0.3897\n",
      "Epoch: 3/5...  Loss: 0.3956\n",
      "Epoch: 4/5...  Loss: 0.2787\n",
      "Epoch: 4/5...  Loss: 0.3932\n",
      "Epoch: 4/5...  Loss: 0.3829\n",
      "Epoch: 4/5...  Loss: 0.3756\n",
      "Epoch: 4/5...  Loss: 0.3984\n",
      "Epoch: 4/5...  Loss: 0.3796\n",
      "Epoch: 4/5...  Loss: 0.3482\n",
      "Epoch: 4/5...  Loss: 0.3784\n",
      "Epoch: 4/5...  Loss: 0.3705\n",
      "Epoch: 4/5...  Loss: 0.3768\n",
      "Epoch: 4/5...  Loss: 0.3634\n",
      "Epoch: 4/5...  Loss: 0.3624\n",
      "Epoch: 4/5...  Loss: 0.3767\n",
      "Epoch: 4/5...  Loss: 0.3717\n",
      "Epoch: 4/5...  Loss: 0.3721\n",
      "Epoch: 4/5...  Loss: 0.3767\n",
      "Epoch: 4/5...  Loss: 0.3612\n",
      "Epoch: 4/5...  Loss: 0.3809\n",
      "Epoch: 4/5...  Loss: 0.3852\n",
      "Epoch: 5/5...  Loss: 0.3397\n",
      "Epoch: 5/5...  Loss: 0.3884\n",
      "Epoch: 5/5...  Loss: 0.3773\n",
      "Epoch: 5/5...  Loss: 0.3524\n",
      "Epoch: 5/5...  Loss: 0.3885\n",
      "Epoch: 5/5...  Loss: 0.3491\n",
      "Epoch: 5/5...  Loss: 0.3563\n",
      "Epoch: 5/5...  Loss: 0.3748\n",
      "Epoch: 5/5...  Loss: 0.3701\n",
      "Epoch: 5/5...  Loss: 0.3538\n",
      "Epoch: 5/5...  Loss: 0.3906\n",
      "Epoch: 5/5...  Loss: 0.3743\n",
      "Epoch: 5/5...  Loss: 0.3541\n",
      "Epoch: 5/5...  Loss: 0.3747\n",
      "Epoch: 5/5...  Loss: 0.3730\n",
      "Epoch: 5/5...  Loss: 0.3598\n",
      "Epoch: 5/5...  Loss: 0.3565\n",
      "Epoch: 5/5...  Loss: 0.3597\n"
     ]
    }
   ],
   "source": [
    "# TODO: Train the network here\n",
    "epochs = 5\n",
    "print_every = 50\n",
    "steps = 0\n",
    "\n",
    "for e in range(epochs):\n",
    "    running_loss = 0\n",
    "    for image, label in iter(trainloader):\n",
    "        steps += 1\n",
    "        \n",
    "        image.resize_(image.size()[0], 784)\n",
    "        \n",
    "        optimizer.zero_grad()\n",
    "        \n",
    "        output = model.forward(image)\n",
    "        loss = criterion(output, label)\n",
    "        loss.backward()\n",
    "        optimizer.step()\n",
    "        \n",
    "        running_loss += loss.item()\n",
    "        \n",
    "        if steps % print_every == 0:\n",
    "            print(f'Epoch: {e+1}/{epochs}... ',\n",
    "                 'Loss: {:.4f}'.format(running_loss/print_every))\n",
    "            \n",
    "            running_loss = 0"
   ]
  },
  {
   "cell_type": "code",
   "execution_count": 16,
   "metadata": {},
   "outputs": [
    {
     "data": {
      "image/png": "[encoded data removed]",
      "text/plain": [
       "<matplotlib.figure.Figure at 0x1a531a22c18>"
      ]
     },
     "metadata": {
      "image/png": {
       "height": 204,
       "width": 423
      },
      "needs_background": "light"
     },
     "output_type": "display_data"
    }
   ],
   "source": [
    "# Test out your network!\n",
    "\n",
    "dataiter = iter(testloader)\n",
    "images, labels = dataiter.next()\n",
    "img = images[0]\n",
    "# Convert 2D image to 1D vector\n",
    "img = img.resize_(1, 784)\n",
    "\n",
    "# TODO: Calculate the class probabilities (softmax) for img\n",
    "with torch.no_grad():\n",
    "    logits = model.forward(img)\n",
    "ps = F.softmax(logits, dim=1)\n",
    "\n",
    "# Plot the image and probabilities\n",
    "helper.view_classify(img.resize_(1, 28, 28), ps, version='Fashion')"
   ]
  },
  {
   "cell_type": "markdown",
   "metadata": {},
   "source": [
    "Now that your network is trained, you'll want to save it to disk so you can load it later instead of training it again. Obviously, it's impractical to train a network every time you need one. In practice, you'll train it once, save the model, then reload it for further training or making predictions. In the next part, I'll show you how to save and load trained models."
   ]
  }
 ],
 "metadata": {
  "kernelspec": {
   "display_name": "Python 3",
   "language": "python",
   "name": "python3"
  },
  "language_info": {
   "codemirror_mode": {
    "name": "ipython",
    "version": 3
   },
   "file_extension": ".py",
   "mimetype": "text/x-python",
   "name": "python",
   "nbconvert_exporter": "python",
   "pygments_lexer": "ipython3",
   "version": "3.6.13"
  }
 },
 "nbformat": 4,
 "nbformat_minor": 2
}
